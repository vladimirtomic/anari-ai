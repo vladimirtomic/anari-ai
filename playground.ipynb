{
 "cells": [
  {
   "cell_type": "markdown",
   "id": "5a3cd461",
   "metadata": {},
   "source": [
    "# Playground\n",
    "Understand the schema"
   ]
  },
  {
   "cell_type": "markdown",
   "id": "2ae654c3",
   "metadata": {},
   "source": [
    "## Script provided as `depthwise_graphviz.py`"
   ]
  },
  {
   "cell_type": "code",
   "execution_count": 1,
   "id": "cb423459",
   "metadata": {},
   "outputs": [],
   "source": [
    "##############################################\n",
    "#                                            #\n",
    "#        Depthwise convolutional layer       #\n",
    "#                                            #\n",
    "##############################################\n",
    "\n",
    "# Implort pygears types\n",
    "from pygears import gear, datagear, sim, find, reg\n",
    "\n",
    "# Import pygears types\n",
    "from pygears.typing import Array, Fixp, Queue, Tuple, Uint\n",
    "\n",
    "# Import pygears built-in modules\n",
    "from pygears.lib import accum, ccat, collect, czip, dreg, drv, flatten, mul, qdeal, qrange, qround, queuemap, replicate, saturate, sdp, when\n",
    "\n",
    "# Packages used for verification and visualization\n",
    "import matplotlib.image as mpimg\n",
    "import numpy as np\n",
    "import matplotlib.pyplot as plt\n",
    "\n",
    "reg['gear/memoize'] = False\n",
    "\n",
    "##############################################\n",
    "#                                            #\n",
    "#                   Design                   #\n",
    "#                                            #\n",
    "##############################################\n",
    "\n",
    "\n",
    "# Dot product implementation with saturation and rounding\n",
    "@gear\n",
    "def dot(din):\n",
    "    return din \\\n",
    "        | queuemap(f=mul) \\\n",
    "        | accum(init=Fixp[10, 18](0)) \\\n",
    "        | qround \\\n",
    "        | saturate(t=Uint[8])\n",
    "\n",
    "\n",
    "# Reorganizes data on the bus for proper distribution among 3 dot product\n",
    "# modules\n",
    "@datagear\n",
    "def reorder(din: Queue[Tuple['pixel', 'weight']]\n",
    "            ) -> Array[Queue[Tuple['pixel[0]', 'weight[0]']], 3]:\n",
    "    p = din.data[0]\n",
    "    w = din.data[1]\n",
    "\n",
    "    return (\n",
    "        ((p[0], w[0]), din.eot),\n",
    "        ((p[1], w[1]), din.eot),\n",
    "        ((p[2], w[2]), din.eot),\n",
    "    )\n",
    "\n",
    "\n",
    "# Generates write addresses based on filter weights stream. This is used for\n",
    "# caching of filter weights.\n",
    "@gear(hdl={'compile': True})\n",
    "async def wr_req(weights: Queue) -> Tuple[Uint[4], 'weights.data']:\n",
    "    cnt = Uint[4](0)\n",
    "    async for w, last in weights:\n",
    "        yield cnt, w\n",
    "        cnt += 1\n",
    "\n",
    "\n",
    "# Implements:\n",
    "#     1. filter weights caching for a single CNN filter\n",
    "#     2. filter weights readout synchronized with the input image segment\n",
    "#     3. 3 dot product modules in operating in parallel on different slices\n",
    "#        along the image segment depth\n",
    "#     4. outputs the result as a vector of 3 output feature map elements\n",
    "@gear\n",
    "def filter(\n",
    "        img: Queue[Array[Uint, 3]],  # Image segment stream\n",
    "        weights: Queue,  # Filter weights stream\n",
    ") -> b'img.data':\n",
    "\n",
    "    # - Performs the readout of the cached filter weights out of a simple\n",
    "    #   dual-port (sdp) memory\n",
    "    # - Before readout waits for the last of the filter weigts to be streamed in\n",
    "    #   \"weights['eot']\"\n",
    "    # - Kernel weights will be read out 30*30=900 times for each of the image\n",
    "    #   segments\n",
    "    w = when(weights['eot'] | dreg, 9) \\\n",
    "        | replicate(30 * 30) \\\n",
    "        | flatten \\\n",
    "        | qrange \\\n",
    "        | flatten \\\n",
    "        | sdp(wr_req(weights))\n",
    "\n",
    "    # Pair up corresponding slices of the kernel and image segment and send\n",
    "    # them for processing to a set of \"dot\" modules, one for each slice along\n",
    "    # the tensor depth\n",
    "    res = [dot(d) for d in reorder(czip(img, w))]\n",
    "\n",
    "    # Synchronize outputs of the \"dot\" modules and combine them into a vector\n",
    "    return ccat(*res)\n",
    "\n",
    "\n",
    "# Top level design module - distributes image segments for processing on \"num\"\n",
    "# filters in parallel\n",
    "@gear\n",
    "def depthwise(\n",
    "        img,  # Image segment stream\n",
    "        weights,  # Filter weights stream\n",
    "        *,\n",
    "        num,  # Number of parallel filters available\n",
    "):\n",
    "    res = [filter(img, w) for w in qdeal(weights, num=num, lvl=1)]\n",
    "\n",
    "    return ccat(*res)\n",
    "\n",
    "\n",
    "##############################################\n",
    "#                                            #\n",
    "#                 Simulation                 #\n",
    "#                                            #\n",
    "##############################################\n",
    "\n",
    "res = []\n",
    "\n",
    "# Driver that outputs image segments\n",
    "img_drv = drv(t=Queue[Array[Uint[8], 3]], seq=[])\n",
    "# Driver that outputs filter weights\n",
    "w_drv = drv(t=Queue[Array[Fixp[3, 8], 3]], seq=[])\n",
    "\n",
    "# Top level connection between drivers, dut and a monitor\n",
    "#  - \"depthwise\" module will be first converted to SystemVerilog and simulated\n",
    "#    using \"verilator\" HDL simulator\n",
    "\n",
    "depthwise(img_drv, w_drv, num=2) \\\n",
    "    | Array[Array[int, 3], 2] \\\n",
    "    | collect(result=res)\n",
    "\n",
    "##############################################\n",
    "#                                            #\n",
    "#     Graphviz hierarchy visualization       #\n",
    "#                                            #\n",
    "##############################################\n",
    "\n",
    "top = find('/')\n",
    "\n",
    "# Traverse hierarchy starting from the 'top' and generate graphviz graph\n"
   ]
  },
  {
   "cell_type": "markdown",
   "id": "5a7e52ca",
   "metadata": {},
   "source": [
    "## Utils\n",
    "Custom functions"
   ]
  },
  {
   "cell_type": "code",
   "execution_count": 2,
   "id": "f1ad7942",
   "metadata": {},
   "outputs": [],
   "source": [
    "import pygears\n",
    "\n",
    "\n",
    "def visit(node):\n",
    "    if not node:\n",
    "        return\n",
    "    \n",
    "    visited.append(node)\n",
    "        \n",
    "    # For Gear visit it's local interfaces and out ports\n",
    "    if isinstance(node, pygears.core.gear.Gear) and node not in gears:\n",
    "        gears.append(node)\n",
    "        for intf in node.local_intfs:\n",
    "            visit(intf)\n",
    "        for out_port in node.out_ports:\n",
    "            visit(out_port)\n",
    "    # For interface visit it's in and out ports\n",
    "    elif isinstance(node, pygears.core.intf.Intf):  # and node not in intfs:\n",
    "        print(node)\n",
    "        intfs.append(node)\n",
    "        visit(node.producer)\n",
    "        for consumer in node.consumers:\n",
    "            visit(consumer)\n",
    "    # For in port visit it's gear\n",
    "    elif isinstance(node, pygears.core.port.InPort) and node not in in_ports:\n",
    "        in_ports.append(node)\n",
    "        visit(node.gear)\n",
    "    # For out port visit it's gear\n",
    "    elif isinstance(node, pygears.core.port.OutPort) and node not in out_ports:\n",
    "        out_ports.append(node)\n",
    "        visit(node.gear)\n",
    "    else:\n",
    "        return\n",
    "        print(f'Unexpected type: {type(node)}!')\n",
    "\n",
    "\n",
    "# def pretty(obj):\n",
    "#     if isinstance(obj, pygears.core.gear.Gear):\n",
    "        \n",
    "#         gear_template = f\"\"\"\n",
    "# Gear: {obj}\n",
    "#   Input ports: {obj.in_ports}\n",
    "#   Output ports: {obj.out_ports}\n",
    "#         \"\"\"\n",
    "#         print(gear_template)"
   ]
  },
  {
   "cell_type": "markdown",
   "id": "bd7c691d",
   "metadata": {},
   "source": [
    "## Analyze `top`"
   ]
  },
  {
   "cell_type": "code",
   "execution_count": 3,
   "id": "28dfcb6a",
   "metadata": {},
   "outputs": [
    {
     "name": "stdout",
     "output_type": "stream",
     "text": [
      "Intf([Array[u8, 3]])\n",
      "Intf([Array[q3.5, 3]])\n",
      "Intf([Array[q3.5, 3]])\n",
      "Intf([Array[q3.5, 3]])\n",
      "Intf(u1)\n",
      "Intf(u1)\n",
      "Intf(u4)\n",
      "Intf(u1)\n",
      "Intf((u4, u1))\n",
      "Intf(u4 | u4)\n",
      "Intf(u4 | u4)\n",
      "Intf(u1)\n",
      "Intf((u4 | u4, u1))\n",
      "Intf(u4 | u4)\n",
      "Intf(u4)\n",
      "Intf(u4)\n",
      "Intf(u4)\n",
      "Intf(u4)\n",
      "Intf(u4)\n",
      "Intf(u10)\n",
      "Intf((u10, u4))\n",
      "Intf([u4])\n",
      "Intf(u4)\n",
      "Intf([u4])\n",
      "Intf(u4)\n",
      "Intf((u4, Array[q3.5, 3]))\n",
      "Intf(u4)\n",
      "Intf(Array[q3.5, 3])\n",
      "Intf((u4, Array[q3.5, 3]))\n",
      "Intf(Array[q3.5, 3])\n",
      "Intf([Array[u8, 3]])\n",
      "Intf([Array[u8, 3]])\n",
      "Intf(Array[q3.5, 3])\n",
      "Intf([Array[u8, 3]])\n",
      "Intf(Array[q3.5, 3])\n",
      "Intf([(Array[u8, 3], Array[q3.5, 3])])\n",
      "Intf(Array[q3.5, 3])\n",
      "Intf([(Array[u8, 3], Array[q3.5, 3])])\n",
      "Intf([Array[u8, 3]])\n",
      "Intf([(Array[u8, 3], Array[q3.5, 3])])\n",
      "Intf(Array[[(u8, q3.5)], 3])\n",
      "Intf([(u8, q3.5)])\n",
      "Intf([(u8, q3.5)])\n",
      "Intf([(u8, q3.5)])\n",
      "Intf([()])\n",
      "Intf([()])\n",
      "Intf([()])\n",
      "Intf(q11.5)\n",
      "Intf([()])\n",
      "Intf(q11.5)\n",
      "Intf([((), q11.5)])\n",
      "Intf(q11.5)\n",
      "Intf([((), q11.5)])\n",
      "Intf((u8, q3.5))\n",
      "Intf(q11.5)\n",
      "Intf([((), q11.5)])\n",
      "Intf([q11.5])\n",
      "Intf([q11.5])\n",
      "Intf([q11.5])\n",
      "Intf(q10.8)\n",
      "Intf(q10.8)\n",
      "Intf(q10.8)\n",
      "Intf(q10.8)\n",
      "Intf(i11)\n",
      "Intf(u8)\n",
      "Intf(u8)\n",
      "Intf([(u8, q3.5)])\n",
      "Intf([(u8, q3.5)])\n",
      "Intf([(u8, q3.5)])\n",
      "Intf([()])\n",
      "Intf([()])\n",
      "Intf([()])\n",
      "Intf(q11.5)\n",
      "Intf([()])\n",
      "Intf(q11.5)\n",
      "Intf([((), q11.5)])\n",
      "Intf(q11.5)\n",
      "Intf([((), q11.5)])\n",
      "Intf((u8, q3.5))\n",
      "Intf(q11.5)\n",
      "Intf([((), q11.5)])\n",
      "Intf([q11.5])\n",
      "Intf([q11.5])\n",
      "Intf([q11.5])\n",
      "Intf(q10.8)\n",
      "Intf(q10.8)\n",
      "Intf(q10.8)\n",
      "Intf(q10.8)\n",
      "Intf(i11)\n",
      "Intf(u8)\n",
      "Intf(u8)\n",
      "Intf([(u8, q3.5)])\n",
      "Intf([(u8, q3.5)])\n",
      "Intf([(u8, q3.5)])\n",
      "Intf([()])\n",
      "Intf([()])\n",
      "Intf([()])\n",
      "Intf(q11.5)\n",
      "Intf([()])\n",
      "Intf(q11.5)\n",
      "Intf([((), q11.5)])\n",
      "Intf(q11.5)\n",
      "Intf([((), q11.5)])\n",
      "Intf((u8, q3.5))\n",
      "Intf(q11.5)\n",
      "Intf([((), q11.5)])\n",
      "Intf([q11.5])\n",
      "Intf([q11.5])\n",
      "Intf([q11.5])\n",
      "Intf(q10.8)\n",
      "Intf(q10.8)\n",
      "Intf(q10.8)\n",
      "Intf(q10.8)\n",
      "Intf(i11)\n",
      "Intf(u8)\n",
      "Intf(u8)\n",
      "Intf((u8, u8, u8))\n",
      "Intf(Array[u8, 3])\n",
      "Intf([Array[q3.5, 3]])\n",
      "Intf([Array[q3.5, 3]])\n",
      "Intf(u1)\n",
      "Intf(u1)\n",
      "Intf(u4)\n",
      "Intf(u1)\n",
      "Intf((u4, u1))\n",
      "Intf(u4 | u4)\n",
      "Intf(u4 | u4)\n",
      "Intf(u1)\n",
      "Intf((u4 | u4, u1))\n",
      "Intf(u4 | u4)\n",
      "Intf(u4)\n",
      "Intf(u4)\n",
      "Intf(u4)\n",
      "Intf(u4)\n",
      "Intf(u4)\n",
      "Intf(u10)\n",
      "Intf((u10, u4))\n",
      "Intf([u4])\n",
      "Intf(u4)\n",
      "Intf([u4])\n",
      "Intf(u4)\n",
      "Intf((u4, Array[q3.5, 3]))\n",
      "Intf(u4)\n",
      "Intf(Array[q3.5, 3])\n",
      "Intf((u4, Array[q3.5, 3]))\n",
      "Intf(Array[q3.5, 3])\n",
      "Intf([Array[u8, 3]])\n",
      "Intf([Array[u8, 3]])\n",
      "Intf(Array[q3.5, 3])\n",
      "Intf([Array[u8, 3]])\n",
      "Intf(Array[q3.5, 3])\n",
      "Intf([(Array[u8, 3], Array[q3.5, 3])])\n",
      "Intf(Array[q3.5, 3])\n",
      "Intf([(Array[u8, 3], Array[q3.5, 3])])\n",
      "Intf([Array[u8, 3]])\n",
      "Intf([(Array[u8, 3], Array[q3.5, 3])])\n",
      "Intf(Array[[(u8, q3.5)], 3])\n",
      "Intf([(u8, q3.5)])\n",
      "Intf([(u8, q3.5)])\n",
      "Intf([(u8, q3.5)])\n",
      "Intf([()])\n",
      "Intf([()])\n",
      "Intf([()])\n",
      "Intf(q11.5)\n",
      "Intf([()])\n",
      "Intf(q11.5)\n",
      "Intf([((), q11.5)])\n",
      "Intf(q11.5)\n",
      "Intf([((), q11.5)])\n",
      "Intf((u8, q3.5))\n",
      "Intf(q11.5)\n",
      "Intf([((), q11.5)])\n",
      "Intf([q11.5])\n",
      "Intf([q11.5])\n",
      "Intf([q11.5])\n",
      "Intf(q10.8)\n",
      "Intf(q10.8)\n",
      "Intf(q10.8)\n",
      "Intf(q10.8)\n",
      "Intf(i11)\n",
      "Intf(u8)\n",
      "Intf(u8)\n",
      "Intf([(u8, q3.5)])\n",
      "Intf([(u8, q3.5)])\n",
      "Intf([(u8, q3.5)])\n",
      "Intf([()])\n",
      "Intf([()])\n",
      "Intf([()])\n",
      "Intf(q11.5)\n",
      "Intf([()])\n",
      "Intf(q11.5)\n",
      "Intf([((), q11.5)])\n",
      "Intf(q11.5)\n",
      "Intf([((), q11.5)])\n",
      "Intf((u8, q3.5))\n",
      "Intf(q11.5)\n",
      "Intf([((), q11.5)])\n",
      "Intf([q11.5])\n",
      "Intf([q11.5])\n",
      "Intf([q11.5])\n",
      "Intf(q10.8)\n",
      "Intf(q10.8)\n",
      "Intf(q10.8)\n",
      "Intf(q10.8)\n",
      "Intf(i11)\n",
      "Intf(u8)\n",
      "Intf(u8)\n",
      "Intf([(u8, q3.5)])\n",
      "Intf([(u8, q3.5)])\n",
      "Intf([(u8, q3.5)])\n",
      "Intf([()])\n",
      "Intf([()])\n",
      "Intf([()])\n",
      "Intf(q11.5)\n",
      "Intf([()])\n",
      "Intf(q11.5)\n",
      "Intf([((), q11.5)])\n",
      "Intf(q11.5)\n",
      "Intf([((), q11.5)])\n",
      "Intf((u8, q3.5))\n",
      "Intf(q11.5)\n",
      "Intf([((), q11.5)])\n",
      "Intf([q11.5])\n",
      "Intf([q11.5])\n",
      "Intf([q11.5])\n",
      "Intf(q10.8)\n",
      "Intf(q10.8)\n",
      "Intf(q10.8)\n",
      "Intf(q10.8)\n",
      "Intf(i11)\n",
      "Intf(u8)\n",
      "Intf(u8)\n",
      "Intf((u8, u8, u8))\n",
      "Intf(Array[u8, 3])\n",
      "Intf([Array[u8, 3]])\n",
      "Intf(Array[u8, 3])\n",
      "Intf(Array[u8, 3])\n",
      "Intf((Array[u8, 3], Array[u8, 3]))\n",
      "Intf([Array[q3.5, 3]])\n",
      "Intf((Array[u8, 3], Array[u8, 3]))\n",
      "Intf(Array[Array[<class 'int'>, 3], 2])\n"
     ]
    }
   ],
   "source": [
    "visited = []\n",
    "gears = []\n",
    "intfs = []\n",
    "in_ports = []\n",
    "out_ports = []\n",
    "\n",
    "visit(top)"
   ]
  },
  {
   "cell_type": "code",
   "execution_count": 4,
   "id": "c37a3a2c",
   "metadata": {},
   "outputs": [
    {
     "data": {
      "text/plain": [
       "[Top, drv(\"/drv0\"), depthwise(\"/depthwise\")]"
      ]
     },
     "execution_count": 4,
     "metadata": {},
     "output_type": "execute_result"
    }
   ],
   "source": [
    "gears[:3]"
   ]
  },
  {
   "cell_type": "code",
   "execution_count": 5,
   "id": "26ce7fb2",
   "metadata": {},
   "outputs": [
    {
     "data": {
      "text/plain": [
       "[Intf(Queue[Array[Uint[8], 3], 1]),\n",
       " Intf(Queue[Array[Fixp[3, 8], 3], 1]),\n",
       " Intf(Queue[Array[Fixp[3, 8], 3], 1])]"
      ]
     },
     "execution_count": 5,
     "metadata": {},
     "output_type": "execute_result"
    }
   ],
   "source": [
    "intfs[:3]"
   ]
  },
  {
   "cell_type": "code",
   "execution_count": 6,
   "id": "bdd95c17",
   "metadata": {},
   "outputs": [
    {
     "data": {
      "text/plain": [
       "[InPort(\"/depthwise.img\"),\n",
       " InPort(\"/depthwise.weights\"),\n",
       " InPort(\"/depthwise/qdeal.din\")]"
      ]
     },
     "execution_count": 6,
     "metadata": {},
     "output_type": "execute_result"
    }
   ],
   "source": [
    "in_ports[:3]"
   ]
  },
  {
   "cell_type": "code",
   "execution_count": 7,
   "id": "4bf63799",
   "metadata": {},
   "outputs": [
    {
     "data": {
      "text/plain": [
       "[OutPort(\"/drv0.dout\"),\n",
       " OutPort(\"/depthwise/qdeal.dout0\"),\n",
       " OutPort(\"/depthwise/qdeal.dout1\")]"
      ]
     },
     "execution_count": 7,
     "metadata": {},
     "output_type": "execute_result"
    }
   ],
   "source": [
    "out_ports[:3]"
   ]
  },
  {
   "cell_type": "code",
   "execution_count": 8,
   "id": "6a180287",
   "metadata": {},
   "outputs": [],
   "source": [
    "def sanity_check(objs):\n",
    "    print(len(objs), len(set(objs)))"
   ]
  },
  {
   "cell_type": "code",
   "execution_count": 9,
   "id": "ba8f66c8",
   "metadata": {},
   "outputs": [
    {
     "name": "stdout",
     "output_type": "stream",
     "text": [
      "164 164\n",
      "211 211\n",
      "169 169\n",
      "241 241\n"
     ]
    }
   ],
   "source": [
    "sanity_check(gears)\n",
    "sanity_check(in_ports)\n",
    "sanity_check(out_ports)\n",
    "sanity_check(intfs)"
   ]
  },
  {
   "cell_type": "markdown",
   "id": "6f60110a",
   "metadata": {},
   "source": [
    "## GraphViz"
   ]
  },
  {
   "cell_type": "code",
   "execution_count": 10,
   "id": "387b1da8",
   "metadata": {},
   "outputs": [],
   "source": [
    "import graphviz"
   ]
  },
  {
   "cell_type": "code",
   "execution_count": 11,
   "id": "9ef94722",
   "metadata": {},
   "outputs": [
    {
     "data": {
      "text/plain": [
       "'Digraph.gv.pdf'"
      ]
     },
     "execution_count": 11,
     "metadata": {},
     "output_type": "execute_result"
    }
   ],
   "source": [
    "g = graphviz.Digraph(comment='Anari AI')\n",
    "g.attr(rankdir='LR')\n",
    "for gear in gears:\n",
    "    with g.subgraph(name=f'cluster_{gear.name}') as sg:\n",
    "        sg.attr(label=gear.name)\n",
    "        for in_port in gear.in_ports:\n",
    "            sg.node(name=in_port.name, label=in_port.name.split('.')[-1])\n",
    "        with sg.subgraph() as s:\n",
    "            s.attr(rank='0')\n",
    "            for in_port in gear.in_ports:\n",
    "                s.node(in_port.name)\n",
    "        for out_port in gear.out_ports:\n",
    "            sg.node(name=out_port.name, label=out_port.name.split('.')[-1])\n",
    "        with sg.subgraph() as s:\n",
    "            s.attr(rank='1')\n",
    "            for out_port in gear.out_ports:\n",
    "                s.node(out_port.name)\n",
    "#     sg.attr = {'label': gear.name}\n",
    "#     print(sg.attr['label'])\n",
    "#     dot.subgraph(sg)\n",
    "\n",
    "for intf in intfs:\n",
    "    for out_port in intf.consumers:\n",
    "        g.edge(intf.producer.name, out_port.name)\n",
    "\n",
    "# with g.subgraph() as sg:\n",
    "#     sg.attr(rank='same')\n",
    "#     sg.node('/depthwise/filter1/replicate')\n",
    "#     sg.node('/depthwise/filter1/flatten0')\n",
    "\n",
    "g.view()\n",
    "# print(g.source)"
   ]
  },
  {
   "cell_type": "markdown",
   "id": "772db4ee",
   "metadata": {},
   "source": [
    "## Stop here"
   ]
  },
  {
   "cell_type": "code",
   "execution_count": 12,
   "id": "6da70cd1",
   "metadata": {},
   "outputs": [
    {
     "ename": "SyntaxError",
     "evalue": "invalid syntax (4067800170.py, line 1)",
     "output_type": "error",
     "traceback": [
      "\u001b[0;36m  File \u001b[0;32m\"/var/folders/fd/6ktr0l4n4zg8_py3hl4gqc6r0000gn/T/ipykernel_91619/4067800170.py\"\u001b[0;36m, line \u001b[0;32m1\u001b[0m\n\u001b[0;31m    stop here\u001b[0m\n\u001b[0m         ^\u001b[0m\n\u001b[0;31mSyntaxError\u001b[0m\u001b[0;31m:\u001b[0m invalid syntax\n"
     ]
    }
   ],
   "source": [
    "stop here"
   ]
  },
  {
   "cell_type": "code",
   "execution_count": null,
   "id": "f23407b0",
   "metadata": {},
   "outputs": [],
   "source": [
    "type(top)"
   ]
  },
  {
   "cell_type": "code",
   "execution_count": null,
   "id": "e1712be4",
   "metadata": {},
   "outputs": [],
   "source": [
    "top"
   ]
  },
  {
   "cell_type": "code",
   "execution_count": null,
   "id": "8bfd0d70",
   "metadata": {},
   "outputs": [],
   "source": [
    "top.out_port_intfs"
   ]
  },
  {
   "cell_type": "code",
   "execution_count": null,
   "id": "84abd6d4",
   "metadata": {},
   "outputs": [],
   "source": [
    "top.dout"
   ]
  },
  {
   "cell_type": "code",
   "execution_count": null,
   "id": "232a7470",
   "metadata": {},
   "outputs": [],
   "source": [
    "top.out_ports"
   ]
  },
  {
   "cell_type": "code",
   "execution_count": null,
   "id": "6a1778d1",
   "metadata": {},
   "outputs": [],
   "source": [
    "top.params"
   ]
  },
  {
   "cell_type": "code",
   "execution_count": null,
   "id": "73beac11",
   "metadata": {},
   "outputs": [],
   "source": [
    "top.basename"
   ]
  },
  {
   "cell_type": "code",
   "execution_count": null,
   "id": "eea76412",
   "metadata": {},
   "outputs": [],
   "source": [
    "top.const_args"
   ]
  },
  {
   "cell_type": "code",
   "execution_count": null,
   "id": "3603d790",
   "metadata": {},
   "outputs": [],
   "source": [
    "top.hierarchical"
   ]
  },
  {
   "cell_type": "code",
   "execution_count": null,
   "id": "778c46b8",
   "metadata": {},
   "outputs": [],
   "source": [
    "top.in_port_intfs"
   ]
  },
  {
   "cell_type": "code",
   "execution_count": null,
   "id": "de42d939",
   "metadata": {},
   "outputs": [],
   "source": [
    "top.in_ports"
   ]
  },
  {
   "cell_type": "code",
   "execution_count": null,
   "id": "06667264",
   "metadata": {},
   "outputs": [],
   "source": [
    "top.inputs"
   ]
  },
  {
   "cell_type": "code",
   "execution_count": null,
   "id": "77045981",
   "metadata": {},
   "outputs": [],
   "source": [
    "top.in_port_intfs"
   ]
  },
  {
   "cell_type": "code",
   "execution_count": null,
   "id": "a3f87226",
   "metadata": {},
   "outputs": [],
   "source": [
    "type(top.local_intfs[0])"
   ]
  },
  {
   "cell_type": "code",
   "execution_count": null,
   "id": "c83a00c4",
   "metadata": {},
   "outputs": [],
   "source": [
    "producers = []\n",
    "consumers = []\n",
    "for ifc in top.local_intfs:\n",
    "    print(f'producer: {ifc.producer}')\n",
    "    print(f'producer type: {type(ifc.producer)}')\n",
    "    producers.append(ifc.producer)\n",
    "    print(f'consumers: {ifc.consumers}')\n",
    "    print(f'consumer type: {type(ifc.consumers[0])}')\n",
    "    consumers.extend(ifc.consumers)"
   ]
  },
  {
   "cell_type": "code",
   "execution_count": null,
   "id": "0788d320",
   "metadata": {},
   "outputs": [],
   "source": [
    "top.name"
   ]
  },
  {
   "cell_type": "code",
   "execution_count": null,
   "id": "5185c9bb",
   "metadata": {},
   "outputs": [],
   "source": [
    "top.out_port_intfs"
   ]
  },
  {
   "cell_type": "code",
   "execution_count": null,
   "id": "28f542e9",
   "metadata": {},
   "outputs": [],
   "source": [
    "top.outnames"
   ]
  },
  {
   "cell_type": "code",
   "execution_count": null,
   "id": "78ba6e81",
   "metadata": {},
   "outputs": [],
   "source": [
    "top.parent"
   ]
  },
  {
   "cell_type": "code",
   "execution_count": null,
   "id": "c7dd16db",
   "metadata": {},
   "outputs": [],
   "source": [
    "top.trace"
   ]
  },
  {
   "cell_type": "markdown",
   "id": "ce6c91a7",
   "metadata": {},
   "source": [
    "## Traverse the tree"
   ]
  },
  {
   "cell_type": "code",
   "execution_count": null,
   "id": "8f67061a",
   "metadata": {},
   "outputs": [],
   "source": [
    "producers[0].name"
   ]
  },
  {
   "cell_type": "code",
   "execution_count": null,
   "id": "51084b2d",
   "metadata": {},
   "outputs": [],
   "source": [
    "drv0 = find('/drv0')"
   ]
  },
  {
   "cell_type": "code",
   "execution_count": null,
   "id": "6153f2c7",
   "metadata": {},
   "outputs": [],
   "source": [
    "type(drv0)"
   ]
  },
  {
   "cell_type": "code",
   "execution_count": null,
   "id": "d613bb32",
   "metadata": {},
   "outputs": [],
   "source": [
    "drv0.out_ports"
   ]
  },
  {
   "cell_type": "code",
   "execution_count": null,
   "id": "e8e9333b",
   "metadata": {},
   "outputs": [],
   "source": [
    "pretty(producers[0].gear)"
   ]
  },
  {
   "cell_type": "code",
   "execution_count": null,
   "id": "a0ccb6e6",
   "metadata": {},
   "outputs": [],
   "source": []
  }
 ],
 "metadata": {
  "kernelspec": {
   "display_name": "Python 3 (ipykernel)",
   "language": "python",
   "name": "python3"
  },
  "language_info": {
   "codemirror_mode": {
    "name": "ipython",
    "version": 3
   },
   "file_extension": ".py",
   "mimetype": "text/x-python",
   "name": "python",
   "nbconvert_exporter": "python",
   "pygments_lexer": "ipython3",
   "version": "3.10.1"
  }
 },
 "nbformat": 4,
 "nbformat_minor": 5
}
